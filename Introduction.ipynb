{
 "cells": [
  {
   "cell_type": "markdown",
   "metadata": {},
   "source": [
    " # Species Distribution modelling using python - Case Study using <i>Mikania Micarantha</i>"
   ]
  },
  {
   "cell_type": "markdown",
   "metadata": {},
   "source": [
    "<p style='text-align: justify;'><b>Background of the species</b>: <i>Mikania Micrantha</i> Kunth, commonly known as `mile-a-minute' weed, is an herbaceous terrestrial creeper with a pantropical distribution. It is now an established noxious weed in natural forests, plantations including tea and agricultural systems in several Indian states and many other countries. This plant which is considered to be one of the top 10 worst weeds in the world, is also a cause of serious concern in India since it is extremely difficult to eradicate. <i>Mikania Micrantha</i> has already demonstrated an ability to establish and spread elsewhere in the world. The species distribution models (SDM) is used to predict the distribution of species in the geographic space based on the mathematical representation of their known distribution in the environmental space. Within a multidimensional space defined by a set of climatic variables, the boundaries of the species records determine its climatic niche or 'climatic envelope'. SDMs operate by generating a statistical relationship between these known occurrences of a species and environmental covariates. The statistical relationship of the climatic envelope thus developed can be spatially and temporarily extrapolated to generate the potential distribution of the species under novel climatic conditions. Statistical and machine learning techniques are being increasingly used to identify the environmental factors and the resultant environmental covariates are used to build a model distribution on the climatic conditions in which species would survive, which are further used to identify the locations of species occurrence. Suitability of climatic conditions between the native and invaded region is known to be a crucial factor for establishment, growth, and reproduction of an invasive species. Identification of the climatically suitable region in the invasive habitat, therefore, can help to identify habitats prone to invasion and guide management decisions. In the similar approaches, SDMs are frequently used to identify areas in a novel habitat that are climatically suitable for an invasive species.</p>"
   ]
  },
  {
   "cell_type": "markdown",
   "metadata": {},
   "source": [
    "## Coordinate Reference system"
   ]
  },
  {
   "cell_type": "markdown",
   "metadata": {},
   "source": [
    "<p style='text-align: justify;'>A coordinate system is a set of mathematical rules for specifying how coordinates are to be assigned to points, such as : cylindrical, Cartesian, ellipsoidal, etc. System contains X and Y value located in 2 or n dimensional space. Earth is in 3-D space with round shape. Coordinate system is used to get the locations of objects on earth that adapts to the shape of earth. When we see globe map in 3-D, tranformed into paper map in textbook or map in computer i.e in 2-D. The CRS components define how points on flat surface map to the points on globe surface. We working on located data on world map.</p>"
   ]
  },
  {
   "cell_type": "markdown",
   "metadata": {},
   "source": [
    "###  The Components of a CRS"
   ]
  },
  {
   "cell_type": "markdown",
   "metadata": {},
   "source": [
    "<b>Coordinate System</b>: The intersection point of the value of x axis (longitude) and y axis (latitude) where data is located on flat map and where data is located in space 3-D."
   ]
  },
  {
   "cell_type": "markdown",
   "metadata": {},
   "source": [
    "<b>Units</b>: Units defined on x, y and z axis."
   ]
  },
  {
   "cell_type": "markdown",
   "metadata": {},
   "source": [
    "<b>Datum</b>: Set of reference points used to locate places on the Earth."
   ]
  },
  {
   "cell_type": "markdown",
   "metadata": {},
   "source": [
    "<b>Projection</b>: Mathematical calculations are used to convert the coordinate system which is used to map objects on the curved surface of earth to a flat surface."
   ]
  },
  {
   "cell_type": "markdown",
   "metadata": {},
   "source": [
    "### Map Coordinate systems"
   ]
  },
  {
   "cell_type": "markdown",
   "metadata": {},
   "source": [
    "Geodesy is the accurately measuring Earth science and understanding geometric shape of Earth, orientation in space, and gravitational field. Geodesists use coordinate reference systems such as WGS84, NAD27 and NAD83. We are going to work on WGS84(EPSG:4326). As shown in the image, X axis of longitude have X-coordinates between -180 and +180 degrees and Y axis of latitudes have Y-coordinates between -90 and +90 degrees. (X, Y) are Coordinates in a two-dimensional space referenced to a horizontal datum and (X, Y and Z) points not only has position, but also has height referenced to a vertical datum."
   ]
  },
  {
   "cell_type": "markdown",
   "metadata": {},
   "source": [
    "<img src=\"world map.png\">"
   ]
  },
  {
   "cell_type": "markdown",
   "metadata": {},
   "source": [
    "The visualisation of map is done through code in the __[next page](http://localhost:8888/notebooks/Desktop/spatial%20project/mikania/html%20file/Page%201.ipynb)__"
   ]
  },
  {
   "cell_type": "markdown",
   "metadata": {},
   "source": [
    "## Required Packages"
   ]
  },
  {
   "cell_type": "markdown",
   "metadata": {},
   "source": [
    "### Packages for Data Analysis"
   ]
  },
  {
   "cell_type": "markdown",
   "metadata": {},
   "source": [
    "<b>NumPy</b>: The library add support for large, multi-dimensional arrays and matrices, along with a large collection of high-level mathematical functions to operate on these arrays."
   ]
  },
  {
   "cell_type": "markdown",
   "metadata": {},
   "source": [
    "<b>Pandas</b>:It is used for data manipulation and analysis. It offers data structures and operations for manipulating numerical tables."
   ]
  },
  {
   "cell_type": "markdown",
   "metadata": {},
   "source": [
    "<b>Imblearn</b>: It provides number of re-sampling techniques commonly used in datasets showing strong between-class imbalance."
   ]
  },
  {
   "cell_type": "markdown",
   "metadata": {},
   "source": [
    "### Packages for visualization on map"
   ]
  },
  {
   "cell_type": "markdown",
   "metadata": {},
   "source": [
    "<b>GeoPandas</b>: GeoPandas is an open source project for working with geospatial data in python easier. It allow spatial operations on georeference data."
   ]
  },
  {
   "cell_type": "markdown",
   "metadata": {},
   "source": [
    "<b>Shapely</b>: Shapely is for manipulation and analysis of planar geometric objects. It does not read or write data files, but it can serialize and deserialize using several well known formats and protocols."
   ]
  },
  {
   "cell_type": "markdown",
   "metadata": {},
   "source": [
    "<b>georasters</b>: The raster package has functions for creating, reading, manipulating, and writing raster data. The package provides, among other things, general raster data manipulation functions that can easily be used to develop more specific functions."
   ]
  },
  {
   "cell_type": "markdown",
   "metadata": {},
   "source": [
    "<b>osmnx</b>: It retrieve, construct, analyze, and visualize street networks from OpenStreetMap."
   ]
  },
  {
   "cell_type": "markdown",
   "metadata": {},
   "source": [
    "<b>Scipy</b>: The package contains modules for optimization, linear algebra, interpolation and so on. "
   ]
  },
  {
   "cell_type": "markdown",
   "metadata": {},
   "source": [
    "<b>Descartes</b>: It allows the usage of geometry objects as matplotlib paths and patches."
   ]
  },
  {
   "cell_type": "markdown",
   "metadata": {},
   "source": [
    "### Package for modelling the data"
   ]
  },
  {
   "cell_type": "markdown",
   "metadata": {},
   "source": [
    "<b>sklearn</b>: Scikit-learn is a free software machine learning library. It features various classification, regression and clustering algorithms, k-means, Train-test split and so on."
   ]
  },
  {
   "cell_type": "markdown",
   "metadata": {},
   "source": [
    "### Packages for Graphical representation"
   ]
  },
  {
   "cell_type": "markdown",
   "metadata": {},
   "source": [
    "<b>matplotlib</b>: The library used to generate plots, histograms and so on."
   ]
  },
  {
   "cell_type": "markdown",
   "metadata": {},
   "source": [
    "<b>seaborn</b>: The library is used for statistical graphics reperesentation."
   ]
  },
  {
   "cell_type": "markdown",
   "metadata": {},
   "source": [
    "### Package required to Call R packages"
   ]
  },
  {
   "cell_type": "markdown",
   "metadata": {},
   "source": [
    "<b>rpy2</b>: It is designed to facilitate the use of R by python programmers."
   ]
  },
  {
   "cell_type": "markdown",
   "metadata": {},
   "source": [
    "## Installation and Environment setup"
   ]
  },
  {
   "cell_type": "markdown",
   "metadata": {},
   "source": [
    "Please follow the sequence as it is given. The work is done over windows operating system. So guidelines are basically only for windows. Later will let you know about Linux. If possible forward your work with windows."
   ]
  },
  {
   "cell_type": "markdown",
   "metadata": {},
   "source": [
    "For the packages, you need high gb RAM system as 4 gb is not sufficient for the work, unless until you are not working with hpc cluster."
   ]
  },
  {
   "cell_type": "markdown",
   "metadata": {},
   "source": [
    "Download Anaconda https://www.anaconda.com/distribution/ by selecting 64-Bit Graphical Installer in windows option. You could try by using 32-bit, because with time many changes occur for the users in case if you are unable to do it with 64-Bit Graphical Installer."
   ]
  },
  {
   "cell_type": "markdown",
   "metadata": {},
   "source": [
    "Open Anaconda prompt then upgrade the setup tools for wheel-"
   ]
  },
  {
   "cell_type": "markdown",
   "metadata": {},
   "source": [
    "<em>python -m pip install --upgrade setuptools wheel pip</em>"
   ]
  },
  {
   "cell_type": "markdown",
   "metadata": {},
   "source": [
    "1) First package need to be installed is geopandas. But geopandas installation depends on other libraries. For required dependencies of geopandas you need to download wheel file with extension .whl."
   ]
  },
  {
   "cell_type": "markdown",
   "metadata": {},
   "source": [
    "The installation of dependencies for geopandas. These five wheel files are GDAL, Fiona, pyproj, rtree, and shapely need to be downloaded from the https://www.lfd.uci.edu/gohlke/pythonlibs/. Press ctrl+F, type name of files, click on the word and download wheel files suitable for your RAM."
   ]
  },
  {
   "cell_type": "markdown",
   "metadata": {},
   "source": [
    "* After downloading wheel files, go to Anaconda command prompt.\n",
    "* Change the directory where you have downloaded the files by typing cd Downloads"
   ]
  },
  {
   "cell_type": "markdown",
   "metadata": {},
   "source": [
    "<em>cd Downloads</em>"
   ]
  },
  {
   "cell_type": "markdown",
   "metadata": {},
   "source": [
    "Lets startup with the installing wheel files."
   ]
  },
  {
   "cell_type": "markdown",
   "metadata": {},
   "source": [
    "First wheel is GDAL and the library needs environment setup, so first install it with the given command "
   ]
  },
  {
   "cell_type": "markdown",
   "metadata": {},
   "source": [
    "<em>pip install GDAL-2.3.2-cp37-cp37m-win_amd64.whl</em> "
   ]
  },
  {
   "cell_type": "markdown",
   "metadata": {},
   "source": [
    "Now setup the environment with the following steps:"
   ]
  },
  {
   "cell_type": "markdown",
   "metadata": {},
   "source": [
    "* Right click on My computer/ PC / This PC (as given in your OS, in my OS 'This PC' is given :)).\n",
    "* Select properties.\n",
    "* Click on Advanced system settings.\n",
    "* Click on Environment Variables.\n",
    "* In system variables select Path.\n",
    "* Click Edit.\n",
    "* At the end(next to ';') type the directory ;C:\\Users\\jyoti\\Anaconda3\\Lib\\site-packages\\osgeo the path is where you have saved your Ananconda file.\n",
    "* Click ok.\n",
    "* Click New in system variables.\n",
    "* In Variable name:\n",
    "* Type GDAL_DATA\n",
    "* In Variable value:\n",
    "* Type C:\\Users\\jyoti\\Anaconda3\\Lib\\site-packages\\osgeo\\data\n",
    "* Click ok.\n",
    "* Again click New in system variable.\n",
    "* In Variable name:\n",
    "* Type GDAL_DRIVER_PATH\n",
    "* In Variable value:\n",
    "* Type  C:\\Users\\jyoti\\Anaconda3\\Lib\\site-packages\\osgeo\\gdalplugins.\n",
    "* Keep clicking ok. Environment setup for GDAL has done. Hurray!"
   ]
  },
  {
   "cell_type": "markdown",
   "metadata": {},
   "source": [
    "Now in sequence follow the listed command in the Anaconda command prompt as given:"
   ]
  },
  {
   "cell_type": "markdown",
   "metadata": {},
   "source": [
    "<em>pip install Fiona-1.8.6-cp37-cp37m-win_amd64.whl pyproj-2.1.3-cp37-cp37m-win_amd64.whl Rtree-0.8.3-cp37-cp37m-win_amd64.whl Shapely-1.6.4.post1-cp37-cp37m-win_amd64.whl</em>"
   ]
  },
  {
   "cell_type": "markdown",
   "metadata": {},
   "source": [
    "All dependencies have been installed for geopandas. Now you need to install geopandas with the following command:"
   ]
  },
  {
   "cell_type": "markdown",
   "metadata": {},
   "source": [
    "<em>pip install geopandas</em>"
   ]
  },
  {
   "cell_type": "markdown",
   "metadata": {},
   "source": [
    "2) Download other wheel files Rpy2 and rasterio from the same link as used for dependencies of geopandas. Here rasterio is the dependency file for georasters. "
   ]
  },
  {
   "cell_type": "markdown",
   "metadata": {},
   "source": [
    "<em>pip install rasterio-1.0.23-cp37-cp37m-win_amd64.whl rpy2-2.9.5-cp37-cp37m-win_amd64.whl</em>"
   ]
  },
  {
   "cell_type": "markdown",
   "metadata": {},
   "source": [
    "For Rpy2 you again need to setup the enviornment in the following manner:"
   ]
  },
  {
   "cell_type": "markdown",
   "metadata": {},
   "source": [
    "* Follow the same process as GDAL.\n",
    "* In system variable click edit.\n",
    "* At the end(next to the character' ; ') type the directory -C:\\Program Files\\R\\R-3.5.3\\bin\\i386;C:\\Users\\jyoti\\Anaconda3\\Scripts the path is where you have saved your R file and Ananconda file respectively. This is fine for the system having the version of R. But in case your system consisting two or more versions. You need to add one more directory to the path -C:\\Program Files\\R\\R-3.6.0\\bin\\x64. \n",
    "* Click ok.\n",
    "* Click New in system variables.\n",
    "* In Variable name:\n",
    "* Type R_HOME\n",
    "* In Variable value:\n",
    "* Type C:\\Program Files\\R\\R-3.5.3\n",
    "* Click ok.\n",
    "* Again click New in system variable.\n",
    "* In Variable name:\n",
    "* Type R_USER\n",
    "* In Variable value:\n",
    "* Type  C:\\Users\\jyoti\\Anaconda3\\Lib\\site-packages\\rpy2\n",
    "* Keep clicking ok. Environment setup for rpy2 has done."
   ]
  },
  {
   "cell_type": "markdown",
   "metadata": {},
   "source": [
    "Here, you have done all installations of the downloaded wheels. Now for installation of other packages, lets come back to our original directory. For that type the following given command in anaconda command prompt."
   ]
  },
  {
   "cell_type": "markdown",
   "metadata": {},
   "source": [
    "<em>cd ..</em>"
   ]
  },
  {
   "cell_type": "markdown",
   "metadata": {},
   "source": [
    "Install georasters, osmnx, seaborn, imblearn with the given following commands:"
   ]
  },
  {
   "cell_type": "markdown",
   "metadata": {},
   "source": [
    "<em>pip install georatsers, seaborn, osmnx</em>"
   ]
  },
  {
   "cell_type": "markdown",
   "metadata": {},
   "source": [
    "<em>pip install -U imbalanced-learn</em>"
   ]
  },
  {
   "cell_type": "markdown",
   "metadata": {},
   "source": [
    "## Import all libraries in Jupyter-notebook"
   ]
  },
  {
   "cell_type": "code",
   "execution_count": 1,
   "metadata": {},
   "outputs": [],
   "source": [
    "import numpy as np\n",
    "import pandas as pd\n",
    "import matplotlib.pyplot as plt\n",
    "import rpy2.robjects as ro\n",
    "from shapely.geometry import Point, Polygon, MultiPolygon\n",
    "import geopandas as gpd\n",
    "import georasters as gr\n",
    "from sklearn.model_selection import train_test_split\n",
    "from imblearn.over_sampling import SMOTE\n",
    "from shapely.ops import cascaded_union\n",
    "from sklearn.linear_model import LogisticRegression\n",
    "from sklearn.linear_model import RidgeClassifier\n",
    "from sklearn.linear_model import Ridge\n",
    "from sklearn.linear_model import Lasso\n",
    "from sklearn.preprocessing import StandardScaler\n",
    "from sklearn import metrics\n",
    "import seaborn as sns"
   ]
  },
  {
   "cell_type": "markdown",
   "metadata": {},
   "source": [
    "All libraries have been imported to self assure that package has installed perfectly."
   ]
  },
  {
   "cell_type": "markdown",
   "metadata": {},
   "source": [
    "## <code>&nbsp;&nbsp;&nbsp;&nbsp;&nbsp;&nbsp;&nbsp;&nbsp;&nbsp;&nbsp;&nbsp;&nbsp;&nbsp;&nbsp;&nbsp;&nbsp;&nbsp;&nbsp;&nbsp;&nbsp;&nbsp;&nbsp;&nbsp;&nbsp;&nbsp;&nbsp;&nbsp;&nbsp;&nbsp;&nbsp;&nbsp;&nbsp;&nbsp;&nbsp;&nbsp;&nbsp;&nbsp;&nbsp;&nbsp;&nbsp;&nbsp;&nbsp;&nbsp;&nbsp;&nbsp;&nbsp;&nbsp;&nbsp;&nbsp;&nbsp;&nbsp;&nbsp;&nbsp;&nbsp;&nbsp;&nbsp;&nbsp;&nbsp;&nbsp;&nbsp;&nbsp;&nbsp;&nbsp;&nbsp;&nbsp;&nbsp;&nbsp;&nbsp;&nbsp;&nbsp;&nbsp;</code>  [Next Page](http://localhost:8888/notebooks/Desktop/spatial%20project/mikania/html%20file/Page_1.ipynb)"
   ]
  }
 ],
 "metadata": {
  "kernelspec": {
   "display_name": "Python 3",
   "language": "python",
   "name": "python3"
  },
  "language_info": {
   "codemirror_mode": {
    "name": "ipython",
    "version": 3
   },
   "file_extension": ".py",
   "mimetype": "text/x-python",
   "name": "python",
   "nbconvert_exporter": "python",
   "pygments_lexer": "ipython3",
   "version": "3.7.3"
  }
 },
 "nbformat": 4,
 "nbformat_minor": 2
}
